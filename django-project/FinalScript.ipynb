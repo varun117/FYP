{
 "cells": [
  {
   "cell_type": "code",
   "execution_count": 2,
   "metadata": {},
   "outputs": [
    {
     "ename": "ModuleNotFoundError",
     "evalue": "No module named 'cv2'",
     "output_type": "error",
     "traceback": [
      "\u001b[1;31m---------------------------------------------------------------------------\u001b[0m",
      "\u001b[1;31mModuleNotFoundError\u001b[0m                       Traceback (most recent call last)",
      "\u001b[1;32m<ipython-input-2-d1367e2e1472>\u001b[0m in \u001b[0;36m<module>\u001b[1;34m\u001b[0m\n\u001b[1;32m----> 1\u001b[1;33m \u001b[1;32mimport\u001b[0m \u001b[0mcv2\u001b[0m\u001b[1;33m\u001b[0m\u001b[1;33m\u001b[0m\u001b[0m\n\u001b[0m\u001b[0;32m      2\u001b[0m \u001b[1;32mimport\u001b[0m \u001b[0mnumpy\u001b[0m \u001b[1;32mas\u001b[0m \u001b[0mnp\u001b[0m\u001b[1;33m\u001b[0m\u001b[1;33m\u001b[0m\u001b[0m\n\u001b[0;32m      3\u001b[0m \u001b[1;32mfrom\u001b[0m \u001b[0mtensorflow\u001b[0m\u001b[1;33m.\u001b[0m\u001b[0mkeras\u001b[0m\u001b[1;33m.\u001b[0m\u001b[0mmodels\u001b[0m \u001b[1;32mimport\u001b[0m \u001b[0mload_model\u001b[0m\u001b[1;33m\u001b[0m\u001b[1;33m\u001b[0m\u001b[0m\n\u001b[0;32m      4\u001b[0m \u001b[1;32mfrom\u001b[0m \u001b[0mcollections\u001b[0m \u001b[1;32mimport\u001b[0m \u001b[0mCounter\u001b[0m\u001b[1;33m\u001b[0m\u001b[1;33m\u001b[0m\u001b[0m\n",
      "\u001b[1;31mModuleNotFoundError\u001b[0m: No module named 'cv2'"
     ]
    }
   ],
   "source": [
    "import cv2\n",
    "import numpy as np\n",
    "from tensorflow.keras.models import load_model\n",
    "from collections import Counter"
   ]
  },
  {
   "cell_type": "code",
   "execution_count": 3,
   "metadata": {},
   "outputs": [],
   "source": [
    "labels = [\"Infected\", \"Normal\"]"
   ]
  },
  {
   "cell_type": "code",
   "execution_count": 29,
   "metadata": {},
   "outputs": [],
   "source": [
    "def testForImage(imgPath):\n",
    "    ans = []\n",
    "    data = []\n",
    "    models = [\"initial-Model-extraData.h5\", \"vggPretrainedModel-extraData.h5\", \"vaibhavModel-Final.h5\"]\n",
    "    image = cv2.imread(imgPath)\n",
    "    image = cv2.cvtColor(image, cv2.COLOR_BGR2RGB)\n",
    "    image = cv2.resize(image, (224, 224))\n",
    "    data.append(image)\n",
    "    data = np.array(data)/255\n",
    "    print(\"The shape of the test image is:\", data.shape)\n",
    "    \n",
    "    for modelPath in models:\n",
    "        print(\"\\nLoading \", modelPath[:-3], \"...\")\n",
    "        loadedModel = load_model(modelPath)\n",
    "        pred = loadedModel.predict(data)\n",
    "        print(modelPath[:-3], \" predicted value:\", pred)\n",
    "        print(\"Predicted Label:\", labels[np.argmax(pred)], \"\\n\")\n",
    "        ans.append(labels[np.argmax(pred)])\n",
    "        if modelPath == \"vggPretrainedModel-extraData.h5\":\n",
    "            ans.append(labels[np.argmax(pred)])\n",
    "    \n",
    "    print(\"Answers: \", ans)\n",
    "    ensemble = Counter(ans)\n",
    "    print(\"\\nEnsembled Prediction:\", ensemble.most_common()[0][0])\n",
    "    "
   ]
  },
  {
   "cell_type": "code",
   "execution_count": 17,
   "metadata": {},
   "outputs": [
    {
     "name": "stdout",
     "output_type": "stream",
     "text": [
      "The shape of the test image is: (1, 224, 224, 3)\n",
      "\n",
      "Loading  initial-Model-extraData ...\n",
      "initial-Model-extraData  predicted value: [[9.9982113e-01 1.7890273e-04]]\n",
      "Predicted Label: Infected \n",
      "\n",
      "\n",
      "Loading  vggPretrainedModel-extraData ...\n",
      "vggPretrainedModel-extraData  predicted value: [[0.8813734  0.11862663]]\n",
      "Predicted Label: Infected \n",
      "\n",
      "\n",
      "Loading  vaibhavModel-Final ...\n",
      "vaibhavModel-Final  predicted value: [[9.9999523e-01 4.7613735e-06]]\n",
      "Predicted Label: Infected \n",
      "\n",
      "\n",
      "Ensembled Prediction: Infected\n"
     ]
    }
   ],
   "source": [
    "testForImage(\"Combined-dataset/infected/0a6c60063b4bae4de001caaba306d1_jumbo.jpeg\")"
   ]
  },
  {
   "cell_type": "code",
   "execution_count": 18,
   "metadata": {},
   "outputs": [
    {
     "name": "stdout",
     "output_type": "stream",
     "text": [
      "The shape of the test image is: (1, 224, 224, 3)\n",
      "\n",
      "Loading  initial-Model-extraData ...\n",
      "initial-Model-extraData  predicted value: [[5.8151683e-05 9.9994183e-01]]\n",
      "Predicted Label: Normal \n",
      "\n",
      "\n",
      "Loading  vggPretrainedModel-extraData ...\n",
      "vggPretrainedModel-extraData  predicted value: [[1.5449489e-04 9.9984550e-01]]\n",
      "Predicted Label: Normal \n",
      "\n",
      "\n",
      "Loading  vaibhavModel-Final ...\n",
      "vaibhavModel-Final  predicted value: [[0.01149765 0.9885024 ]]\n",
      "Predicted Label: Normal \n",
      "\n",
      "\n",
      "Ensembled Prediction: Normal\n"
     ]
    }
   ],
   "source": [
    "testForImage(\"Combined-dataset/normal/person1675_virus_2891.jpeg\")"
   ]
  },
  {
   "cell_type": "code",
   "execution_count": 30,
   "metadata": {},
   "outputs": [
    {
     "name": "stdout",
     "output_type": "stream",
     "text": [
      "The shape of the test image is: (1, 224, 224, 3)\n",
      "\n",
      "Loading  initial-Model-extraData ...\n",
      "initial-Model-extraData  predicted value: [[0.99801815 0.00198188]]\n",
      "Predicted Label: Infected \n",
      "\n",
      "\n",
      "Loading  vggPretrainedModel-extraData ...\n",
      "vggPretrainedModel-extraData  predicted value: [[0.19355237 0.80644757]]\n",
      "Predicted Label: Normal \n",
      "\n",
      "\n",
      "Loading  vaibhavModel-Final ...\n",
      "vaibhavModel-Final  predicted value: [[9.9999988e-01 6.4173456e-08]]\n",
      "Predicted Label: Infected \n",
      "\n",
      "Answers:  ['Infected', 'Normal', 'Normal', 'Infected']\n",
      "\n",
      "Ensembled Prediction: Infected\n"
     ]
    }
   ],
   "source": [
    "testForImage(\"testNormalImage-2.jpg\")"
   ]
  },
  {
   "cell_type": "code",
   "execution_count": 2,
   "metadata": {},
   "outputs": [
    {
     "name": "stdout",
     "output_type": "stream",
     "text": [
      "3.7.4\n"
     ]
    }
   ],
   "source": [
    "from platform import python_version\n",
    "print(python_version())"
   ]
  },
  {
   "cell_type": "code",
   "execution_count": null,
   "metadata": {},
   "outputs": [],
   "source": []
  }
 ],
 "metadata": {
  "kernelspec": {
   "display_name": "Python 3",
   "language": "python",
   "name": "python3"
  },
  "language_info": {
   "codemirror_mode": {
    "name": "ipython",
    "version": 3
   },
   "file_extension": ".py",
   "mimetype": "text/x-python",
   "name": "python",
   "nbconvert_exporter": "python",
   "pygments_lexer": "ipython3",
   "version": "3.7.4"
  }
 },
 "nbformat": 4,
 "nbformat_minor": 4
}
